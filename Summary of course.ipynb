{
 "cells": [
  {
   "cell_type": "markdown",
   "id": "a2e94bd6-5f93-44b9-ba64-f8f9fe479f09",
   "metadata": {},
   "source": [
    "# ChatGPT Prompt Engineering for developers - Notes"
   ]
  },
  {
   "cell_type": "markdown",
   "id": "c520383d-9da7-49e5-86b3-528ba7d73697",
   "metadata": {},
   "source": [
    "##  Types of Large Language Models - LLM ## \n",
    "###  There are two types of models - Base LLMs and Instruction Tuned LLMs\n",
    "Base LLM - predicts next word based on text training data\n",
    "\n",
    "Instruction Tuned LLM - tries to follow instruction\n",
    "\n",
    "Fine-tuning on Instruction of Base LLM allows for such a LLM"
   ]
  },
  {
   "cell_type": "markdown",
   "id": "f0e209e9-c60b-4de1-a548-3798ff594e21",
   "metadata": {},
   "source": [
    "## Setup"
   ]
  },
  {
   "cell_type": "markdown",
   "id": "92af8e7a-9bbf-4f5b-aa3d-76a2a7cd3ab7",
   "metadata": {},
   "source": [
    "### Setting up OpenAI"
   ]
  },
  {
   "cell_type": "code",
   "execution_count": 8,
   "id": "bd9d3e78-3505-4aba-812a-cd3734e8d435",
   "metadata": {},
   "outputs": [
    {
     "ename": "ModuleNotFoundError",
     "evalue": "No module named 'openai'",
     "output_type": "error",
     "traceback": [
      "\u001b[0;31m---------------------------------------------------------------------------\u001b[0m",
      "\u001b[0;31mModuleNotFoundError\u001b[0m                       Traceback (most recent call last)",
      "Cell \u001b[0;32mIn[8], line 1\u001b[0m\n\u001b[0;32m----> 1\u001b[0m \u001b[38;5;28;01mimport\u001b[39;00m \u001b[38;5;21;01mopenai\u001b[39;00m\n\u001b[1;32m      2\u001b[0m \u001b[38;5;28;01mimport\u001b[39;00m \u001b[38;5;21;01mos\u001b[39;00m\n\u001b[1;32m      4\u001b[0m \u001b[38;5;28;01mfrom\u001b[39;00m \u001b[38;5;21;01mdotenv\u001b[39;00m \u001b[38;5;28;01mimport\u001b[39;00m load_dotenv, find_dotenv\n",
      "\u001b[0;31mModuleNotFoundError\u001b[0m: No module named 'openai'"
     ]
    }
   ],
   "source": [
    "import openai\n",
    "import os\n",
    "\n",
    "from dotenv import load_dotenv, find_dotenv\n",
    "_ = load_dotenv(find_dotenv())\n",
    "\n",
    "openai.api_key  = os.getenv('OPENAI_API_KEY')"
   ]
  },
  {
   "cell_type": "markdown",
   "id": "3d9c4738-4670-4bfc-927a-1d1972bfa63b",
   "metadata": {},
   "source": [
    "### Helper Function"
   ]
  },
  {
   "cell_type": "code",
   "execution_count": null,
   "id": "a5e7d558-80cf-430e-896e-2599af8cb99f",
   "metadata": {},
   "outputs": [],
   "source": [
    "def get_completion(prompt, model=\"gpt-3.5-turbo\"):\n",
    "    messages = [{\"role\": \"user\", \"content\": prompt}]\n",
    "    response = openai.ChatCompletion.create(\n",
    "        model=model,\n",
    "        messages=messages,\n",
    "        temperature=0, # this is the degree of randomness of the model's output\n",
    "    )\n",
    "    return response.choices[0].message[\"content\"]"
   ]
  },
  {
   "cell_type": "markdown",
   "id": "75025587-387e-425d-82c5-7ce5ece51d55",
   "metadata": {},
   "source": [
    "## Principles of Prompting"
   ]
  },
  {
   "cell_type": "markdown",
   "id": "5f783822-c72b-4abc-9876-1d423cf71f31",
   "metadata": {},
   "source": [
    "### Principle 1 - Use clear and specific instructions"
   ]
  },
  {
   "cell_type": "markdown",
   "id": "11d3eb9c-f581-457b-ae10-66be02643530",
   "metadata": {},
   "source": [
    "#### Tactic 1 - Use delimeters such as ''' '''/ <> / \" \""
   ]
  },
  {
   "cell_type": "markdown",
   "id": "0c89060f-77f4-41ed-a515-946f91788389",
   "metadata": {},
   "source": [
    "#### Tactic 2 - Ask for structured output"
   ]
  },
  {
   "cell_type": "markdown",
   "id": "733b48b6-2caa-4d9f-8780-be6d4005ae6e",
   "metadata": {},
   "source": [
    "#### Tactic 3 - Check whether conditions are satisfied, check assumptions required to do task"
   ]
  },
  {
   "cell_type": "markdown",
   "id": "1473971a-52e7-4170-b853-0cbe5426db92",
   "metadata": {},
   "source": [
    "#### Tactic 4 - Few shot prompting; showcase few successful cases to respond in a similar way."
   ]
  },
  {
   "cell_type": "markdown",
   "id": "939f1186-27c8-450e-b2ec-baeb1ba4be46",
   "metadata": {},
   "source": [
    "### Principle 2 - Give model time to think"
   ]
  },
  {
   "cell_type": "markdown",
   "id": "758eaa5a-943c-443d-b502-7b4e3e9c70c0",
   "metadata": {},
   "source": [
    "#### Tactic 1 - Specify the steps required to complete a task."
   ]
  },
  {
   "cell_type": "markdown",
   "id": "cddc87ba-71b1-4afc-b3c4-5eb528014113",
   "metadata": {},
   "source": [
    "##### Specify format"
   ]
  },
  {
   "cell_type": "markdown",
   "id": "737d27f6-f30b-4384-b001-6bbc847e3f1c",
   "metadata": {},
   "source": [
    "#### Tactic 2 - Instruct model to work out its own solution before rushing to a conclusion"
   ]
  },
  {
   "cell_type": "markdown",
   "id": "4c3462f0-59a5-408b-95f4-270fc5c59337",
   "metadata": {},
   "source": [
    "##### Ask model to work out the solution first before asking it to corroborate"
   ]
  },
  {
   "cell_type": "markdown",
   "id": "f743ac10-ddfe-4f6d-a54b-4732a2645401",
   "metadata": {},
   "source": [
    "## Iterative Prompt Development"
   ]
  },
  {
   "cell_type": "markdown",
   "id": "6c1a0d7f-8981-4f89-8079-2ab1a75d8044",
   "metadata": {},
   "source": [
    "### Prompt Guidelines \n",
    "- Be clear and Specific\n",
    "- Analyse why result does not give desired output\n",
    "- Refine the idea and prompt with a bunch of egs.\n",
    "- Repeat"
   ]
  },
  {
   "cell_type": "markdown",
   "id": "665e2a8a-8aed-444e-bd44-8d263b3f92e3",
   "metadata": {},
   "source": [
    "### Issue 1 - Text too long\n",
    "- Specify the length in words, characters of sentences"
   ]
  },
  {
   "cell_type": "markdown",
   "id": "e855c6cc-84bf-49ad-93a9-b88dfcefd887",
   "metadata": {},
   "source": [
    "### Issue 2 - Text focuses on wrong detail\n",
    "- Focus on aspects relevant to audience"
   ]
  },
  {
   "cell_type": "markdown",
   "id": "add89ff8-664f-4122-905d-d382e1a8496e",
   "metadata": {},
   "source": [
    "### Issue 3 - Description needs a table of dimension\n",
    "- Extract info and organise into a table"
   ]
  },
  {
   "cell_type": "markdown",
   "id": "22796f3a-a82d-461c-a3e2-21697e329a52",
   "metadata": {},
   "source": [
    "## Summarising\n",
    "- Summarise with a focus on a topic"
   ]
  },
  {
   "cell_type": "markdown",
   "id": "25e91604-1ac9-4bb7-9008-569e1972d6d4",
   "metadata": {},
   "source": [
    "### Prompt responses include topic that are not related to the topic of focuse\n",
    "- Use 'extract' instead\n"
   ]
  },
  {
   "cell_type": "markdown",
   "id": "62b48d98-40db-44cc-bb3a-633accc88455",
   "metadata": {},
   "source": [
    "## Interference - understanding emotions/sentiments from text\n",
    "- LLMs helps that it is already trained in that"
   ]
  },
  {
   "cell_type": "markdown",
   "id": "a459ed0a-8150-46fd-a408-9426ef8116ce",
   "metadata": {},
   "source": [
    "### Possible uses\n",
    "- Identify types of emotions\n",
    "- Doing multiple tasks at once"
   ]
  },
  {
   "cell_type": "markdown",
   "id": "a0fcc261-44cd-4cd0-8feb-403fa1ba1669",
   "metadata": {},
   "source": [
    "## Transforming\n"
   ]
  },
  {
   "cell_type": "markdown",
   "id": "9d21f8c4-c3ac-48f4-b743-77ae748a58fd",
   "metadata": {},
   "source": [
    "### Forms of transformation\n",
    "- Translating\n",
    "- Universal Translators\n",
    "- Tone transformation\n",
    "- Format Converter\n",
    "- Spell Check/Grammar Check\n",
    "- Identifying differences in texts\n"
   ]
  },
  {
   "cell_type": "markdown",
   "id": "a9bcf32b-4126-4264-9ff6-fc89b5ac1bc2",
   "metadata": {},
   "source": [
    "## Expanding\n",
    "- The AI builds upon a prompt given and develops on the idea/topic at hand"
   ]
  },
  {
   "cell_type": "markdown",
   "id": "56030de5-291f-4326-8d47-985c3d0f4195",
   "metadata": {},
   "source": [
    "### Temperature\n",
    "- DEGREE of randomness of models"
   ]
  },
  {
   "cell_type": "markdown",
   "id": "6db427a9-c7b1-4e28-9778-6f2bdf1fb11c",
   "metadata": {},
   "source": [
    "Increased temperature allows for increased variance from most searched word"
   ]
  },
  {
   "cell_type": "code",
   "execution_count": null,
   "id": "fe351038-5b4b-4b03-a4f0-ed2ff5c6192e",
   "metadata": {},
   "outputs": [],
   "source": []
  }
 ],
 "metadata": {
  "kernelspec": {
   "display_name": "Python 3 (ipykernel)",
   "language": "python",
   "name": "python3"
  },
  "language_info": {
   "codemirror_mode": {
    "name": "ipython",
    "version": 3
   },
   "file_extension": ".py",
   "mimetype": "text/x-python",
   "name": "python",
   "nbconvert_exporter": "python",
   "pygments_lexer": "ipython3",
   "version": "3.10.13"
  }
 },
 "nbformat": 4,
 "nbformat_minor": 5
}
